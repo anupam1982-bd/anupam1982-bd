{
  "nbformat": 4,
  "nbformat_minor": 0,
  "metadata": {
    "colab": {
      "name": "Untitled3.ipynb",
      "provenance": [],
      "collapsed_sections": [],
      "authorship_tag": "ABX9TyMziOfVhmhVrd3NglHruJfH",
      "include_colab_link": true
    },
    "kernelspec": {
      "name": "python3",
      "display_name": "Python 3"
    },
    "language_info": {
      "name": "python"
    }
  },
  "cells": [
    {
      "cell_type": "markdown",
      "metadata": {
        "id": "view-in-github",
        "colab_type": "text"
      },
      "source": [
        "<a href=\"https://colab.research.google.com/github/anupam1982-bd/anupam1982-bd/blob/main/Untitled3.ipynb\" target=\"_parent\"><img src=\"https://colab.research.google.com/assets/colab-badge.svg\" alt=\"Open In Colab\"/></a>"
      ]
    },
    {
      "cell_type": "code",
      "metadata": {
        "id": "dtvcbo3pp1VR"
      },
      "source": [
        "students_data = {1:['Sam', 24] , 2:['Rob',25], 3:['Jack', 26], 4:['Cornor',24], 5:['Trump',27]}"
      ],
      "execution_count": null,
      "outputs": []
    },
    {
      "cell_type": "code",
      "metadata": {
        "colab": {
          "base_uri": "https://localhost:8080/"
        },
        "id": "JsGDf1SHp6vx",
        "outputId": "a1355987-8ab6-4a08-cac3-6dd6ab71a2a1"
      },
      "source": [
        "type (students_data)"
      ],
      "execution_count": null,
      "outputs": [
        {
          "output_type": "execute_result",
          "data": {
            "text/plain": [
              "dict"
            ]
          },
          "metadata": {},
          "execution_count": 8
        }
      ]
    },
    {
      "cell_type": "code",
      "metadata": {
        "colab": {
          "base_uri": "https://localhost:8080/"
        },
        "id": "UhgFq5C5vvM_",
        "outputId": "d038e456-8822-42ac-f107-a205c7206052"
      },
      "source": [
        "lt=[]\n",
        "for val in students_data.values():\n",
        "  print(val[1])\n",
        "  lt.append(val[1])\n",
        "print(lt)"
      ],
      "execution_count": null,
      "outputs": [
        {
          "output_type": "stream",
          "name": "stdout",
          "text": [
            "24\n",
            "25\n",
            "26\n",
            "24\n",
            "27\n",
            "[24, 25, 26, 24, 27]\n"
          ]
        }
      ]
    },
    {
      "cell_type": "code",
      "metadata": {
        "colab": {
          "base_uri": "https://localhost:8080/"
        },
        "id": "YuoNZgNbqc4C",
        "outputId": "9c795ecf-11fd-457a-d09c-433140006050"
      },
      "source": [
        "test = range(1,10)\n",
        "print (list(test))"
      ],
      "execution_count": null,
      "outputs": [
        {
          "output_type": "stream",
          "name": "stdout",
          "text": [
            "[1, 2, 3, 4, 5, 6, 7, 8, 9]\n"
          ]
        }
      ]
    },
    {
      "cell_type": "code",
      "metadata": {
        "colab": {
          "base_uri": "https://localhost:8080/"
        },
        "id": "LHbXoYkst3oM",
        "outputId": "5244bc35-92a7-49b5-b80c-e87eb1b859c0"
      },
      "source": [
        "list(range(19,171,19))"
      ],
      "execution_count": null,
      "outputs": [
        {
          "output_type": "execute_result",
          "data": {
            "text/plain": [
              "[19, 38, 57, 76, 95, 114, 133, 152]"
            ]
          },
          "metadata": {},
          "execution_count": 39
        }
      ]
    },
    {
      "cell_type": "code",
      "metadata": {
        "colab": {
          "base_uri": "https://localhost:8080/"
        },
        "id": "-eEd225nvNzk",
        "outputId": "4bc2cd25-42a9-4dba-fef9-ef1d98f409b6"
      },
      "source": [
        "\n",
        "l = []\n",
        "for i in range(-100, 0):\n",
        "    if(i % 2 == 0):\n",
        "        l.append(i)\n",
        "l"
      ],
      "execution_count": null,
      "outputs": [
        {
          "output_type": "execute_result",
          "data": {
            "text/plain": [
              "[-100,\n",
              " -98,\n",
              " -96,\n",
              " -94,\n",
              " -92,\n",
              " -90,\n",
              " -88,\n",
              " -86,\n",
              " -84,\n",
              " -82,\n",
              " -80,\n",
              " -78,\n",
              " -76,\n",
              " -74,\n",
              " -72,\n",
              " -70,\n",
              " -68,\n",
              " -66,\n",
              " -64,\n",
              " -62,\n",
              " -60,\n",
              " -58,\n",
              " -56,\n",
              " -54,\n",
              " -52,\n",
              " -50,\n",
              " -48,\n",
              " -46,\n",
              " -44,\n",
              " -42,\n",
              " -40,\n",
              " -38,\n",
              " -36,\n",
              " -34,\n",
              " -32,\n",
              " -30,\n",
              " -28,\n",
              " -26,\n",
              " -24,\n",
              " -22,\n",
              " -20,\n",
              " -18,\n",
              " -16,\n",
              " -14,\n",
              " -12,\n",
              " -10,\n",
              " -8,\n",
              " -6,\n",
              " -4,\n",
              " -2]"
            ]
          },
          "metadata": {},
          "execution_count": 43
        }
      ]
    },
    {
      "cell_type": "code",
      "metadata": {
        "colab": {
          "base_uri": "https://localhost:8080/"
        },
        "id": "dPwxUhiMw2Ak",
        "outputId": "40041682-1230-4b33-f7ee-b5b969865924"
      },
      "source": [
        "d = {0: 'Fish', 1: 'Bird', 2: 'Mammal'}\n",
        "for i in d:\n",
        "    print(i)"
      ],
      "execution_count": null,
      "outputs": [
        {
          "output_type": "stream",
          "name": "stdout",
          "text": [
            "0\n",
            "1\n",
            "2\n"
          ]
        }
      ]
    },
    {
      "cell_type": "code",
      "metadata": {
        "id": "VnJL24GPyI2_"
      },
      "source": [
        "l1 = [\"automobiles\", \"Honda\", \"Benz\", \"Suzuki\", \"Morris Garages\" ]"
      ],
      "execution_count": null,
      "outputs": []
    },
    {
      "cell_type": "code",
      "metadata": {
        "colab": {
          "base_uri": "https://localhost:8080/"
        },
        "id": "NG1kwnwsyK0E",
        "outputId": "94e25941-9176-4839-a0a3-b41a198ff53a"
      },
      "source": [
        "l2 = []\n",
        "for words in l1:\n",
        "  print(words.upper())\n",
        "  l2.append(words.upper())\n",
        "print (l2)"
      ],
      "execution_count": null,
      "outputs": [
        {
          "output_type": "stream",
          "name": "stdout",
          "text": [
            "AUTOMOBILES\n",
            "HONDA\n",
            "BENZ\n",
            "SUZUKI\n",
            "MORRIS GARAGES\n",
            "['AUTOMOBILES', 'HONDA', 'BENZ', 'SUZUKI', 'MORRIS GARAGES']\n"
          ]
        }
      ]
    },
    {
      "cell_type": "code",
      "metadata": {
        "colab": {
          "base_uri": "https://localhost:8080/"
        },
        "id": "pE2Ys_pCy-Bj",
        "outputId": "335d8aaf-508c-407a-fd9c-1920da3a10f4"
      },
      "source": [
        "l2 = [words.upper() for words in l1]\n",
        "l2"
      ],
      "execution_count": null,
      "outputs": [
        {
          "output_type": "execute_result",
          "data": {
            "text/plain": [
              "['AUTOMOBILES', 'HONDA', 'BENZ', 'SUZUKI', 'MORRIS GARAGES']"
            ]
          },
          "metadata": {},
          "execution_count": 60
        }
      ]
    },
    {
      "cell_type": "code",
      "metadata": {
        "colab": {
          "base_uri": "https://localhost:8080/"
        },
        "id": "DVARsRjn2N17",
        "outputId": "2b71b9da-e2f5-409f-b2c5-d8ed4907c197"
      },
      "source": [
        "n = int(input(\"Enter any number :\"))"
      ],
      "execution_count": null,
      "outputs": [
        {
          "name": "stdout",
          "output_type": "stream",
          "text": [
            "Enter any number :11\n"
          ]
        }
      ]
    },
    {
      "cell_type": "code",
      "metadata": {
        "colab": {
          "base_uri": "https://localhost:8080/"
        },
        "id": "hicdt1Kq3BZ1",
        "outputId": "8fdf0d92-1ad7-4aa4-8228-95b14d07fcaf"
      },
      "source": [
        "l1 = list(range(1,n+1))\n",
        "print(l1)\n",
        "l2 = []\n",
        "for i in l1:\n",
        "  i = i*i\n",
        "  l2.append(i)\n",
        "print(l2)"
      ],
      "execution_count": null,
      "outputs": [
        {
          "output_type": "stream",
          "name": "stdout",
          "text": [
            "[1, 2, 3, 4, 5, 6, 7, 8, 9, 10, 11]\n",
            "[1, 4, 9, 16, 25, 36, 49, 64, 81, 100, 121]\n"
          ]
        }
      ]
    },
    {
      "cell_type": "code",
      "metadata": {
        "colab": {
          "base_uri": "https://localhost:8080/"
        },
        "id": "468c8yfD4jnf",
        "outputId": "77a36e07-4be7-4a63-b6fd-2a7153b65b75"
      },
      "source": [
        "l2 = [i*i for i in list(range(1,n+1))]\n",
        "l2"
      ],
      "execution_count": null,
      "outputs": [
        {
          "output_type": "execute_result",
          "data": {
            "text/plain": [
              "[1, 4, 9, 16, 25, 36, 49, 64, 81, 100, 121]"
            ]
          },
          "metadata": {},
          "execution_count": 78
        }
      ]
    },
    {
      "cell_type": "code",
      "metadata": {
        "colab": {
          "base_uri": "https://localhost:8080/"
        },
        "id": "0G9BR5r86y_1",
        "outputId": "435837f4-0831-4754-b20d-d984a3dcf0f7"
      },
      "source": [
        "input_list = ['wood','old','apple','big','item','euphoria']\n",
        "list_vowel =[]\n",
        "vowels = ['a','e','i','o','u']\n",
        "for char in input_list:\n",
        "  for i in char[0]:\n",
        "    if i in vowels:\n",
        "      list_vowel.append(char)\n",
        "print(list_vowel)"
      ],
      "execution_count": null,
      "outputs": [
        {
          "output_type": "stream",
          "name": "stdout",
          "text": [
            "['old', 'apple', 'item', 'euphoria']\n"
          ]
        }
      ]
    },
    {
      "cell_type": "code",
      "metadata": {
        "colab": {
          "base_uri": "https://localhost:8080/"
        },
        "id": "S-5YbpZP84oZ",
        "outputId": "d297cf61-c08c-428f-a121-04a96f5b285b"
      },
      "source": [
        "list_vowel =[char for char in input_list for i in char[0] if i in ['a','e','i','o','u']]\n",
        "list_vowel"
      ],
      "execution_count": null,
      "outputs": [
        {
          "output_type": "execute_result",
          "data": {
            "text/plain": [
              "['old', 'apple', 'item', 'euphoria']"
            ]
          },
          "metadata": {},
          "execution_count": 91
        }
      ]
    },
    {
      "cell_type": "code",
      "metadata": {
        "colab": {
          "base_uri": "https://localhost:8080/"
        },
        "id": "pyCfrlOA-Tdn",
        "outputId": "7f24ec1d-6c22-42c0-ae10-bb56cf489dcd"
      },
      "source": [
        "input_list = list(range(1,100))\n",
        "output_dict = {}\n",
        "\n",
        "for val in input_list:\n",
        "    if val % 3 == 0:\n",
        "        output_dict[val] = val**3\n",
        "print(output_dict)"
      ],
      "execution_count": null,
      "outputs": [
        {
          "output_type": "stream",
          "name": "stdout",
          "text": [
            "{3: 27, 6: 216, 9: 729, 12: 1728, 15: 3375, 18: 5832, 21: 9261, 24: 13824, 27: 19683, 30: 27000, 33: 35937, 36: 46656, 39: 59319, 42: 74088, 45: 91125, 48: 110592, 51: 132651, 54: 157464, 57: 185193, 60: 216000, 63: 250047, 66: 287496, 69: 328509, 72: 373248, 75: 421875, 78: 474552, 81: 531441, 84: 592704, 87: 658503, 90: 729000, 93: 804357, 96: 884736, 99: 970299}\n"
          ]
        }
      ]
    },
    {
      "cell_type": "code",
      "metadata": {
        "colab": {
          "base_uri": "https://localhost:8080/"
        },
        "id": "y2IJHT9mAZVh",
        "outputId": "7d099106-636c-4536-f0fa-5624854f78ce"
      },
      "source": [
        "name_lst = ['VARMA', 'raj', 'Gupta', 'SaNdeeP']\n",
        "capital = []\n",
        "for word in name_lst:\n",
        "  capital.append(word.capitalize())\n",
        "print(capital)"
      ],
      "execution_count": null,
      "outputs": [
        {
          "output_type": "stream",
          "name": "stdout",
          "text": [
            "['Varma', 'Raj', 'Gupta', 'Sandeep']\n"
          ]
        }
      ]
    },
    {
      "cell_type": "code",
      "metadata": {
        "id": "CcjaafHtFKnn"
      },
      "source": [
        "input_list = ['2','2']\n",
        "x = int(input_list[0])\n",
        "y = int(input_list[1])"
      ],
      "execution_count": null,
      "outputs": []
    },
    {
      "cell_type": "code",
      "metadata": {
        "id": "yR4sTR-cFSMv"
      },
      "source": [
        "def sqaured(x,y):\n",
        "  sqr = x**y\n",
        "  return sqr\n"
      ],
      "execution_count": null,
      "outputs": []
    },
    {
      "cell_type": "code",
      "metadata": {
        "colab": {
          "base_uri": "https://localhost:8080/"
        },
        "id": "Bq8BmXDZGQ3H",
        "outputId": "f35e864d-8127-4062-d777-9265148a72fc"
      },
      "source": [
        "sqaured(3,4)"
      ],
      "execution_count": null,
      "outputs": [
        {
          "output_type": "execute_result",
          "data": {
            "text/plain": [
              "81"
            ]
          },
          "metadata": {},
          "execution_count": 114
        }
      ]
    },
    {
      "cell_type": "code",
      "metadata": {
        "colab": {
          "base_uri": "https://localhost:8080/"
        },
        "id": "NrTr1FIRNYb5",
        "outputId": "2ae9085e-4410-4601-97b4-c5c35b3d77d2"
      },
      "source": [
        "a=10\n",
        "b=9\n",
        "\n",
        "greater = lambda a,b : a if a>b else b\n",
        "\n",
        "greater(a,b)"
      ],
      "execution_count": null,
      "outputs": [
        {
          "output_type": "execute_result",
          "data": {
            "text/plain": [
              "10"
            ]
          },
          "metadata": {},
          "execution_count": 123
        }
      ]
    },
    {
      "cell_type": "code",
      "metadata": {
        "id": "SIxsNoDcOvwv"
      },
      "source": [
        "min = lambda x, y: x if x < y else y"
      ],
      "execution_count": null,
      "outputs": []
    },
    {
      "cell_type": "code",
      "metadata": {
        "colab": {
          "base_uri": "https://localhost:8080/"
        },
        "id": "L-65gek7Oy8u",
        "outputId": "c4a7eca6-f4cd-42cf-aa16-f51c40fb7147"
      },
      "source": [
        "min(101*99, 102*98)"
      ],
      "execution_count": null,
      "outputs": [
        {
          "output_type": "execute_result",
          "data": {
            "text/plain": [
              "9996"
            ]
          },
          "metadata": {},
          "execution_count": 126
        }
      ]
    },
    {
      "cell_type": "code",
      "metadata": {
        "colab": {
          "base_uri": "https://localhost:8080/"
        },
        "id": "2Nn73C20x5_z",
        "outputId": "47f9d7e8-c463-4070-aba9-4ddd1fb8e5bc"
      },
      "source": [
        "list_numbers = (1,2,3,4)\n",
        "sample_map = map(lambda x: x*2, list_numbers)\n",
        "print(list(sample_map))"
      ],
      "execution_count": null,
      "outputs": [
        {
          "output_type": "stream",
          "name": "stdout",
          "text": [
            "[2, 4, 6, 8]\n"
          ]
        }
      ]
    },
    {
      "cell_type": "code",
      "metadata": {
        "colab": {
          "base_uri": "https://localhost:8080/"
        },
        "id": "A2BJF5EO1WXX",
        "outputId": "2263be18-9cf9-4ad1-d739-855e2d71dd10"
      },
      "source": [
        "students_data = {1:['Sam', 15] , 2:['Rob',18], 3:['Kyle', 16], 4:['Cornor',19], 5:['Trump',20]}\n",
        "\n",
        "list(filter(lambda x : x[1] > 18, students_data.values()))"
      ],
      "execution_count": null,
      "outputs": [
        {
          "output_type": "execute_result",
          "data": {
            "text/plain": [
              "[['Cornor', 19], ['Trump', 20]]"
            ]
          },
          "metadata": {},
          "execution_count": 5
        }
      ]
    },
    {
      "cell_type": "code",
      "metadata": {
        "colab": {
          "base_uri": "https://localhost:8080/"
        },
        "id": "870kxiJ48_fI",
        "outputId": "17940089-d334-4b63-bff4-48c2d459b956"
      },
      "source": [
        "wrd = str(input(\"Enter a word :\"))\n",
        "lst = ['r']\n",
        "if lst[0] in wrd:\n",
        "    print(\"belongs to team r\")\n",
        "else :\n",
        "        print(\"does not belongs to team r\")"
      ],
      "execution_count": null,
      "outputs": [
        {
          "output_type": "stream",
          "name": "stdout",
          "text": [
            "Enter a word :word\n",
            "belongs to team r\n"
          ]
        }
      ]
    },
    {
      "cell_type": "code",
      "metadata": {
        "colab": {
          "base_uri": "https://localhost:8080/"
        },
        "id": "-GsSY3-mCFCs",
        "outputId": "fc4d57fb-05b8-4396-8e9f-dbb89633b45d"
      },
      "source": [
        "# write code here \n",
        "wrd = str(input(\"Enter a word :\"))\n",
        "lst1 = ['r']\n",
        "lst2 = ['b']\n",
        "for i in wrd :\n",
        "  if i == lst1[0]:\n",
        "    print(\"it is red team\") \n",
        "    break\n",
        "  if i ==  lst2[0]:\n",
        "    print(\"blue team\")\n",
        "    break\n",
        "else:\n",
        "  print(\"no team\")"
      ],
      "execution_count": null,
      "outputs": [
        {
          "output_type": "stream",
          "name": "stdout",
          "text": [
            "Enter a word :woxx\n",
            "no team\n"
          ]
        }
      ]
    }
  ]
}