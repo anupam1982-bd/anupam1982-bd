{
  "nbformat": 4,
  "nbformat_minor": 0,
  "metadata": {
    "colab": {
      "name": "Untitled3.ipynb",
      "provenance": [],
      "collapsed_sections": [],
      "authorship_tag": "ABX9TyM6BlhvkH/pACfFOlmz3F0W",
      "include_colab_link": true
    },
    "kernelspec": {
      "name": "python3",
      "display_name": "Python 3"
    },
    "language_info": {
      "name": "python"
    }
  },
  "cells": [
    {
      "cell_type": "markdown",
      "metadata": {
        "id": "view-in-github",
        "colab_type": "text"
      },
      "source": [
        "<a href=\"https://colab.research.google.com/github/anupam1982-bd/anupam1982-bd/blob/main/Untitled3.ipynb\" target=\"_parent\"><img src=\"https://colab.research.google.com/assets/colab-badge.svg\" alt=\"Open In Colab\"/></a>"
      ]
    },
    {
      "cell_type": "code",
      "metadata": {
        "id": "dtvcbo3pp1VR"
      },
      "source": [
        "students_data = {1:['Sam', 24] , 2:['Rob',25], 3:['Jack', 26], 4:['Cornor',24], 5:['Trump',27]}"
      ],
      "execution_count": 45,
      "outputs": []
    },
    {
      "cell_type": "code",
      "metadata": {
        "colab": {
          "base_uri": "https://localhost:8080/"
        },
        "id": "JsGDf1SHp6vx",
        "outputId": "a1355987-8ab6-4a08-cac3-6dd6ab71a2a1"
      },
      "source": [
        "type (students_data)"
      ],
      "execution_count": 8,
      "outputs": [
        {
          "output_type": "execute_result",
          "data": {
            "text/plain": [
              "dict"
            ]
          },
          "metadata": {},
          "execution_count": 8
        }
      ]
    },
    {
      "cell_type": "code",
      "metadata": {
        "colab": {
          "base_uri": "https://localhost:8080/"
        },
        "id": "UhgFq5C5vvM_",
        "outputId": "d038e456-8822-42ac-f107-a205c7206052"
      },
      "source": [
        "lt=[]\n",
        "for val in students_data.values():\n",
        "  print(val[1])\n",
        "  lt.append(val[1])\n",
        "print(lt)"
      ],
      "execution_count": 51,
      "outputs": [
        {
          "output_type": "stream",
          "name": "stdout",
          "text": [
            "24\n",
            "25\n",
            "26\n",
            "24\n",
            "27\n",
            "[24, 25, 26, 24, 27]\n"
          ]
        }
      ]
    },
    {
      "cell_type": "code",
      "metadata": {
        "colab": {
          "base_uri": "https://localhost:8080/"
        },
        "id": "YuoNZgNbqc4C",
        "outputId": "9c795ecf-11fd-457a-d09c-433140006050"
      },
      "source": [
        "test = range(1,10)\n",
        "print (list(test))"
      ],
      "execution_count": 36,
      "outputs": [
        {
          "output_type": "stream",
          "name": "stdout",
          "text": [
            "[1, 2, 3, 4, 5, 6, 7, 8, 9]\n"
          ]
        }
      ]
    },
    {
      "cell_type": "code",
      "metadata": {
        "colab": {
          "base_uri": "https://localhost:8080/"
        },
        "id": "LHbXoYkst3oM",
        "outputId": "5244bc35-92a7-49b5-b80c-e87eb1b859c0"
      },
      "source": [
        "list(range(19,171,19))"
      ],
      "execution_count": 39,
      "outputs": [
        {
          "output_type": "execute_result",
          "data": {
            "text/plain": [
              "[19, 38, 57, 76, 95, 114, 133, 152]"
            ]
          },
          "metadata": {},
          "execution_count": 39
        }
      ]
    },
    {
      "cell_type": "code",
      "metadata": {
        "colab": {
          "base_uri": "https://localhost:8080/"
        },
        "id": "-eEd225nvNzk",
        "outputId": "4bc2cd25-42a9-4dba-fef9-ef1d98f409b6"
      },
      "source": [
        "\n",
        "l = []\n",
        "for i in range(-100, 0):\n",
        "    if(i % 2 == 0):\n",
        "        l.append(i)\n",
        "l"
      ],
      "execution_count": 43,
      "outputs": [
        {
          "output_type": "execute_result",
          "data": {
            "text/plain": [
              "[-100,\n",
              " -98,\n",
              " -96,\n",
              " -94,\n",
              " -92,\n",
              " -90,\n",
              " -88,\n",
              " -86,\n",
              " -84,\n",
              " -82,\n",
              " -80,\n",
              " -78,\n",
              " -76,\n",
              " -74,\n",
              " -72,\n",
              " -70,\n",
              " -68,\n",
              " -66,\n",
              " -64,\n",
              " -62,\n",
              " -60,\n",
              " -58,\n",
              " -56,\n",
              " -54,\n",
              " -52,\n",
              " -50,\n",
              " -48,\n",
              " -46,\n",
              " -44,\n",
              " -42,\n",
              " -40,\n",
              " -38,\n",
              " -36,\n",
              " -34,\n",
              " -32,\n",
              " -30,\n",
              " -28,\n",
              " -26,\n",
              " -24,\n",
              " -22,\n",
              " -20,\n",
              " -18,\n",
              " -16,\n",
              " -14,\n",
              " -12,\n",
              " -10,\n",
              " -8,\n",
              " -6,\n",
              " -4,\n",
              " -2]"
            ]
          },
          "metadata": {},
          "execution_count": 43
        }
      ]
    },
    {
      "cell_type": "code",
      "metadata": {
        "colab": {
          "base_uri": "https://localhost:8080/"
        },
        "id": "dPwxUhiMw2Ak",
        "outputId": "40041682-1230-4b33-f7ee-b5b969865924"
      },
      "source": [
        "d = {0: 'Fish', 1: 'Bird', 2: 'Mammal'}\n",
        "for i in d:\n",
        "    print(i)"
      ],
      "execution_count": 52,
      "outputs": [
        {
          "output_type": "stream",
          "name": "stdout",
          "text": [
            "0\n",
            "1\n",
            "2\n"
          ]
        }
      ]
    },
    {
      "cell_type": "code",
      "metadata": {
        "id": "VnJL24GPyI2_"
      },
      "source": [
        "l1 = [\"automobiles\", \"Honda\", \"Benz\", \"Suzuki\", \"Morris Garages\" ]"
      ],
      "execution_count": 53,
      "outputs": []
    },
    {
      "cell_type": "code",
      "metadata": {
        "colab": {
          "base_uri": "https://localhost:8080/"
        },
        "id": "NG1kwnwsyK0E",
        "outputId": "94e25941-9176-4839-a0a3-b41a198ff53a"
      },
      "source": [
        "l2 = []\n",
        "for words in l1:\n",
        "  print(words.upper())\n",
        "  l2.append(words.upper())\n",
        "print (l2)"
      ],
      "execution_count": 58,
      "outputs": [
        {
          "output_type": "stream",
          "name": "stdout",
          "text": [
            "AUTOMOBILES\n",
            "HONDA\n",
            "BENZ\n",
            "SUZUKI\n",
            "MORRIS GARAGES\n",
            "['AUTOMOBILES', 'HONDA', 'BENZ', 'SUZUKI', 'MORRIS GARAGES']\n"
          ]
        }
      ]
    },
    {
      "cell_type": "code",
      "metadata": {
        "colab": {
          "base_uri": "https://localhost:8080/"
        },
        "id": "pE2Ys_pCy-Bj",
        "outputId": "335d8aaf-508c-407a-fd9c-1920da3a10f4"
      },
      "source": [
        "l2 = [words.upper() for words in l1]\n",
        "l2"
      ],
      "execution_count": 60,
      "outputs": [
        {
          "output_type": "execute_result",
          "data": {
            "text/plain": [
              "['AUTOMOBILES', 'HONDA', 'BENZ', 'SUZUKI', 'MORRIS GARAGES']"
            ]
          },
          "metadata": {},
          "execution_count": 60
        }
      ]
    },
    {
      "cell_type": "code",
      "metadata": {
        "colab": {
          "base_uri": "https://localhost:8080/"
        },
        "id": "DVARsRjn2N17",
        "outputId": "2b71b9da-e2f5-409f-b2c5-d8ed4907c197"
      },
      "source": [
        "n = int(input(\"Enter any number :\"))"
      ],
      "execution_count": 64,
      "outputs": [
        {
          "name": "stdout",
          "output_type": "stream",
          "text": [
            "Enter any number :11\n"
          ]
        }
      ]
    },
    {
      "cell_type": "code",
      "metadata": {
        "colab": {
          "base_uri": "https://localhost:8080/"
        },
        "id": "hicdt1Kq3BZ1",
        "outputId": "8fdf0d92-1ad7-4aa4-8228-95b14d07fcaf"
      },
      "source": [
        "l1 = list(range(1,n+1))\n",
        "print(l1)\n",
        "l2 = []\n",
        "for i in l1:\n",
        "  i = i*i\n",
        "  l2.append(i)\n",
        "print(l2)"
      ],
      "execution_count": 76,
      "outputs": [
        {
          "output_type": "stream",
          "name": "stdout",
          "text": [
            "[1, 2, 3, 4, 5, 6, 7, 8, 9, 10, 11]\n",
            "[1, 4, 9, 16, 25, 36, 49, 64, 81, 100, 121]\n"
          ]
        }
      ]
    },
    {
      "cell_type": "code",
      "metadata": {
        "colab": {
          "base_uri": "https://localhost:8080/"
        },
        "id": "468c8yfD4jnf",
        "outputId": "77a36e07-4be7-4a63-b6fd-2a7153b65b75"
      },
      "source": [
        "l2 = [i*i for i in list(range(1,n+1))]\n",
        "l2"
      ],
      "execution_count": 78,
      "outputs": [
        {
          "output_type": "execute_result",
          "data": {
            "text/plain": [
              "[1, 4, 9, 16, 25, 36, 49, 64, 81, 100, 121]"
            ]
          },
          "metadata": {},
          "execution_count": 78
        }
      ]
    },
    {
      "cell_type": "code",
      "metadata": {
        "colab": {
          "base_uri": "https://localhost:8080/"
        },
        "id": "0G9BR5r86y_1",
        "outputId": "435837f4-0831-4754-b20d-d984a3dcf0f7"
      },
      "source": [
        "input_list = ['wood','old','apple','big','item','euphoria']\n",
        "list_vowel =[]\n",
        "vowels = ['a','e','i','o','u']\n",
        "for char in input_list:\n",
        "  for i in char[0]:\n",
        "    if i in vowels:\n",
        "      list_vowel.append(char)\n",
        "print(list_vowel)"
      ],
      "execution_count": 88,
      "outputs": [
        {
          "output_type": "stream",
          "name": "stdout",
          "text": [
            "['old', 'apple', 'item', 'euphoria']\n"
          ]
        }
      ]
    },
    {
      "cell_type": "code",
      "metadata": {
        "colab": {
          "base_uri": "https://localhost:8080/"
        },
        "id": "S-5YbpZP84oZ",
        "outputId": "d297cf61-c08c-428f-a121-04a96f5b285b"
      },
      "source": [
        "list_vowel =[char for char in input_list for i in char[0] if i in ['a','e','i','o','u']]\n",
        "list_vowel"
      ],
      "execution_count": 91,
      "outputs": [
        {
          "output_type": "execute_result",
          "data": {
            "text/plain": [
              "['old', 'apple', 'item', 'euphoria']"
            ]
          },
          "metadata": {},
          "execution_count": 91
        }
      ]
    },
    {
      "cell_type": "code",
      "metadata": {
        "colab": {
          "base_uri": "https://localhost:8080/"
        },
        "id": "pyCfrlOA-Tdn",
        "outputId": "7f24ec1d-6c22-42c0-ae10-bb56cf489dcd"
      },
      "source": [
        "input_list = list(range(1,100))\n",
        "output_dict = {}\n",
        "\n",
        "for val in input_list:\n",
        "    if val % 3 == 0:\n",
        "        output_dict[val] = val**3\n",
        "print(output_dict)"
      ],
      "execution_count": 93,
      "outputs": [
        {
          "output_type": "stream",
          "name": "stdout",
          "text": [
            "{3: 27, 6: 216, 9: 729, 12: 1728, 15: 3375, 18: 5832, 21: 9261, 24: 13824, 27: 19683, 30: 27000, 33: 35937, 36: 46656, 39: 59319, 42: 74088, 45: 91125, 48: 110592, 51: 132651, 54: 157464, 57: 185193, 60: 216000, 63: 250047, 66: 287496, 69: 328509, 72: 373248, 75: 421875, 78: 474552, 81: 531441, 84: 592704, 87: 658503, 90: 729000, 93: 804357, 96: 884736, 99: 970299}\n"
          ]
        }
      ]
    },
    {
      "cell_type": "code",
      "metadata": {
        "colab": {
          "base_uri": "https://localhost:8080/"
        },
        "id": "y2IJHT9mAZVh",
        "outputId": "7d099106-636c-4536-f0fa-5624854f78ce"
      },
      "source": [
        "name_lst = ['VARMA', 'raj', 'Gupta', 'SaNdeeP']\n",
        "capital = []\n",
        "for word in name_lst:\n",
        "  capital.append(word.capitalize())\n",
        "print(capital)"
      ],
      "execution_count": 97,
      "outputs": [
        {
          "output_type": "stream",
          "name": "stdout",
          "text": [
            "['Varma', 'Raj', 'Gupta', 'Sandeep']\n"
          ]
        }
      ]
    },
    {
      "cell_type": "code",
      "metadata": {
        "id": "CcjaafHtFKnn"
      },
      "source": [
        "input_list = ['2','2']\n",
        "x = int(input_list[0])\n",
        "y = int(input_list[1])"
      ],
      "execution_count": 106,
      "outputs": []
    },
    {
      "cell_type": "code",
      "metadata": {
        "id": "yR4sTR-cFSMv"
      },
      "source": [
        "def sqaured(x,y):\n",
        "  sqr = x**y\n",
        "  return sqr\n"
      ],
      "execution_count": 113,
      "outputs": []
    },
    {
      "cell_type": "code",
      "metadata": {
        "colab": {
          "base_uri": "https://localhost:8080/"
        },
        "id": "Bq8BmXDZGQ3H",
        "outputId": "f35e864d-8127-4062-d777-9265148a72fc"
      },
      "source": [
        "sqaured(3,4)"
      ],
      "execution_count": 114,
      "outputs": [
        {
          "output_type": "execute_result",
          "data": {
            "text/plain": [
              "81"
            ]
          },
          "metadata": {},
          "execution_count": 114
        }
      ]
    },
    {
      "cell_type": "code",
      "metadata": {
        "colab": {
          "base_uri": "https://localhost:8080/"
        },
        "id": "NrTr1FIRNYb5",
        "outputId": "2ae9085e-4410-4601-97b4-c5c35b3d77d2"
      },
      "source": [
        "a=10\n",
        "b=9\n",
        "\n",
        "greater = lambda a,b : a if a>b else b\n",
        "\n",
        "greater(a,b)"
      ],
      "execution_count": 123,
      "outputs": [
        {
          "output_type": "execute_result",
          "data": {
            "text/plain": [
              "10"
            ]
          },
          "metadata": {},
          "execution_count": 123
        }
      ]
    },
    {
      "cell_type": "code",
      "metadata": {
        "id": "SIxsNoDcOvwv"
      },
      "source": [
        "min = lambda x, y: x if x < y else y"
      ],
      "execution_count": 125,
      "outputs": []
    },
    {
      "cell_type": "code",
      "metadata": {
        "colab": {
          "base_uri": "https://localhost:8080/"
        },
        "id": "L-65gek7Oy8u",
        "outputId": "c4a7eca6-f4cd-42cf-aa16-f51c40fb7147"
      },
      "source": [
        "min(101*99, 102*98)"
      ],
      "execution_count": 126,
      "outputs": [
        {
          "output_type": "execute_result",
          "data": {
            "text/plain": [
              "9996"
            ]
          },
          "metadata": {},
          "execution_count": 126
        }
      ]
    },
    {
      "cell_type": "code",
      "metadata": {
        "colab": {
          "base_uri": "https://localhost:8080/"
        },
        "id": "2Nn73C20x5_z",
        "outputId": "47f9d7e8-c463-4070-aba9-4ddd1fb8e5bc"
      },
      "source": [
        "list_numbers = (1,2,3,4)\n",
        "sample_map = map(lambda x: x*2, list_numbers)\n",
        "print(list(sample_map))"
      ],
      "execution_count": 7,
      "outputs": [
        {
          "output_type": "stream",
          "name": "stdout",
          "text": [
            "[2, 4, 6, 8]\n"
          ]
        }
      ]
    },
    {
      "cell_type": "code",
      "metadata": {
        "colab": {
          "base_uri": "https://localhost:8080/"
        },
        "id": "A2BJF5EO1WXX",
        "outputId": "2263be18-9cf9-4ad1-d739-855e2d71dd10"
      },
      "source": [
        "students_data = {1:['Sam', 15] , 2:['Rob',18], 3:['Kyle', 16], 4:['Cornor',19], 5:['Trump',20]}\n",
        "\n",
        "list(filter(lambda x : x[1] > 18, students_data.values()))"
      ],
      "execution_count": 5,
      "outputs": [
        {
          "output_type": "execute_result",
          "data": {
            "text/plain": [
              "[['Cornor', 19], ['Trump', 20]]"
            ]
          },
          "metadata": {},
          "execution_count": 5
        }
      ]
    },
    {
      "cell_type": "code",
      "metadata": {
        "colab": {
          "base_uri": "https://localhost:8080/"
        },
        "id": "870kxiJ48_fI",
        "outputId": "17940089-d334-4b63-bff4-48c2d459b956"
      },
      "source": [
        "wrd = str(input(\"Enter a word :\"))\n",
        "lst = ['r']\n",
        "if lst[0] in wrd:\n",
        "    print(\"belongs to team r\")\n",
        "else :\n",
        "        print(\"does not belongs to team r\")"
      ],
      "execution_count": 79,
      "outputs": [
        {
          "output_type": "stream",
          "name": "stdout",
          "text": [
            "Enter a word :word\n",
            "belongs to team r\n"
          ]
        }
      ]
    },
    {
      "cell_type": "code",
      "metadata": {
        "colab": {
          "base_uri": "https://localhost:8080/"
        },
        "id": "-GsSY3-mCFCs",
        "outputId": "fc4d57fb-05b8-4396-8e9f-dbb89633b45d"
      },
      "source": [
        "# write code here \n",
        "wrd = str(input(\"Enter a word :\"))\n",
        "lst1 = ['r']\n",
        "lst2 = ['b']\n",
        "for i in wrd :\n",
        "  if i == lst1[0]:\n",
        "    print(\"it is red team\") \n",
        "    break\n",
        "  if i ==  lst2[0]:\n",
        "    print(\"blue team\")\n",
        "    break\n",
        "else:\n",
        "  print(\"no team\")"
      ],
      "execution_count": 100,
      "outputs": [
        {
          "output_type": "stream",
          "name": "stdout",
          "text": [
            "Enter a word :woxx\n",
            "no team\n"
          ]
        }
      ]
    },
    {
      "cell_type": "code",
      "metadata": {
        "colab": {
          "base_uri": "https://localhost:8080/"
        },
        "id": "gvAeiyrKmBMX",
        "outputId": "e5eaaac2-5154-4f25-fcc9-0cd7e19d40f1"
      },
      "source": [
        "sample_list = [6, 98, 34, 45, 64, 7, 2, 5, 78, 90, 324, 111, 657, 438]\n",
        "len_test = len(sample_list)\n",
        "print(len_test)\n",
        "new_list = [sample_list[i]+13 for i in range(1,len_test)]\n",
        "new_list"
      ],
      "execution_count": 102,
      "outputs": [
        {
          "output_type": "stream",
          "name": "stdout",
          "text": [
            "14\n"
          ]
        },
        {
          "output_type": "execute_result",
          "data": {
            "text/plain": [
              "[111, 47, 58, 77, 20, 15, 18, 91, 103, 337, 124, 670, 451]"
            ]
          },
          "metadata": {},
          "execution_count": 102
        }
      ]
    },
    {
      "cell_type": "code",
      "metadata": {
        "id": "rt5tNXoPuh_e"
      },
      "source": [
        "def factor_num(inp) :\n",
        " n = inp\n",
        " lst_1=[]\n",
        " for i in range(1,n+1):\n",
        "  a = inp%i\n",
        "  if (a == 0): \n",
        "   lst_1.append(i)\n",
        " return lst_1"
      ],
      "execution_count": 166,
      "outputs": []
    },
    {
      "cell_type": "code",
      "metadata": {
        "colab": {
          "base_uri": "https://localhost:8080/"
        },
        "id": "GpfL63za5LK4",
        "outputId": "3068dc22-9dcd-48f8-b10f-2c3cc8a7189f"
      },
      "source": [
        "sample_list = [6, 98, 34, 45, 64, 7, 2, 5, 78, 90, 324, 111, 657, 438]\n",
        "len_sample = len(sample_list)\n",
        "dict = {}\n",
        "for i in range (0,len_sample):\n",
        "    a=(sample_list[i])\n",
        "    factor_num(a)\n",
        "    dict[a]=factor_num(a)\n",
        "print(dict)"
      ],
      "execution_count": 220,
      "outputs": [
        {
          "output_type": "stream",
          "name": "stdout",
          "text": [
            "{6: [1, 2, 3, 6], 98: [1, 2, 7, 14, 49, 98], 34: [1, 2, 17, 34], 45: [1, 3, 5, 9, 15, 45], 64: [1, 2, 4, 8, 16, 32, 64], 7: [1, 7], 2: [1, 2], 5: [1, 5], 78: [1, 2, 3, 6, 13, 26, 39, 78], 90: [1, 2, 3, 5, 6, 9, 10, 15, 18, 30, 45, 90], 324: [1, 2, 3, 4, 6, 9, 12, 18, 27, 36, 54, 81, 108, 162, 324], 111: [1, 3, 37, 111], 657: [1, 3, 9, 73, 219, 657], 438: [1, 2, 3, 6, 73, 146, 219, 438]}\n"
          ]
        }
      ]
    },
    {
      "cell_type": "code",
      "metadata": {
        "colab": {
          "base_uri": "https://localhost:8080/"
        },
        "id": "b-Bls7pkInJ7",
        "outputId": "0c655bec-dee2-4259-8709-472bc54e24f0"
      },
      "source": [
        "sample_sentence = \"Pack my box with five dozen liquor jugs\"\n",
        "blank = [' ']\n",
        "set_lst=[]\n",
        "# write code here \n",
        "for i in sample_sentence :\n",
        "    if i != blank[0]:\n",
        "     set_lst.append(i)\n",
        "set(set_lst)"
      ],
      "execution_count": 221,
      "outputs": [
        {
          "output_type": "execute_result",
          "data": {
            "text/plain": [
              "{'P',\n",
              " 'a',\n",
              " 'b',\n",
              " 'c',\n",
              " 'd',\n",
              " 'e',\n",
              " 'f',\n",
              " 'g',\n",
              " 'h',\n",
              " 'i',\n",
              " 'j',\n",
              " 'k',\n",
              " 'l',\n",
              " 'm',\n",
              " 'n',\n",
              " 'o',\n",
              " 'q',\n",
              " 'r',\n",
              " 's',\n",
              " 't',\n",
              " 'u',\n",
              " 'v',\n",
              " 'w',\n",
              " 'x',\n",
              " 'y',\n",
              " 'z'}"
            ]
          },
          "metadata": {},
          "execution_count": 221
        }
      ]
    },
    {
      "cell_type": "code",
      "metadata": {
        "id": "BAFUXns-LG7-"
      },
      "source": [
        "def factor_num(inp) :\n",
        " n = inp\n",
        " lst_1=[]\n",
        " for i in range(2,n+1):\n",
        "  a = inp%i\n",
        "  if (a == 0):\n",
        "   x =  inp//i\n",
        "   lst_1.append(x)\n",
        " return lst_1\n"
      ],
      "execution_count": 12,
      "outputs": []
    },
    {
      "cell_type": "code",
      "metadata": {
        "id": "ZxeZmda9Mv2O"
      },
      "source": [
        "lst = sum(factor_num(75))"
      ],
      "execution_count": 17,
      "outputs": []
    },
    {
      "cell_type": "code",
      "metadata": {
        "colab": {
          "base_uri": "https://localhost:8080/"
        },
        "id": "vyYHXgYiOOzx",
        "outputId": "dba208d0-1818-4c66-9cda-e44908fb0e7d"
      },
      "source": [
        "lst"
      ],
      "execution_count": 18,
      "outputs": [
        {
          "output_type": "execute_result",
          "data": {
            "text/plain": [
              "49"
            ]
          },
          "metadata": {},
          "execution_count": 18
        }
      ]
    },
    {
      "cell_type": "code",
      "metadata": {
        "id": "hu3G26jnYYOY"
      },
      "source": [
        "# write code here\n",
        "\n",
        "def add_list(l1,l2):\n",
        "    l3 = []\n",
        "    #len_l1=len(l1)\n",
        "    for i in range(0,4):\n",
        "        l_3 = l1[i]+l2[i]\n",
        "        l3.append(l_3)\n",
        "    return"
      ],
      "execution_count": 45,
      "outputs": []
    },
    {
      "cell_type": "code",
      "metadata": {
        "id": "r9os7LJ0OHZn"
      },
      "source": [
        "l1 = [5, 8, 9, 12]\n",
        "l2 = [10, 12, 8, 6]"
      ],
      "execution_count": 46,
      "outputs": []
    },
    {
      "cell_type": "code",
      "metadata": {
        "id": "iO1sAac0ZP84"
      },
      "source": [
        "def add_list_n(a1,a2):\n",
        "    a3 = a1+a2\n",
        "    return a3"
      ],
      "execution_count": 50,
      "outputs": []
    },
    {
      "cell_type": "code",
      "metadata": {
        "colab": {
          "base_uri": "https://localhost:8080/"
        },
        "id": "h35fkoLbbT2g",
        "outputId": "b85225bc-fa8e-497c-e4bd-001ffb6e6b15"
      },
      "source": [
        "list(map(add_list_n,l1,l2))"
      ],
      "execution_count": 51,
      "outputs": [
        {
          "output_type": "execute_result",
          "data": {
            "text/plain": [
              "[15, 20, 17, 18]"
            ]
          },
          "metadata": {},
          "execution_count": 51
        }
      ]
    },
    {
      "cell_type": "code",
      "metadata": {
        "colab": {
          "base_uri": "https://localhost:8080/"
        },
        "id": "6TIBjj7jbcMB",
        "outputId": "8cd96110-af15-4dec-88b8-bca6d940d822"
      },
      "source": [
        "get_elemts = lambda x : x[0] == 's' or x[0] == 'S'\n",
        "get_elemts('s')"
      ],
      "execution_count": 56,
      "outputs": [
        {
          "output_type": "execute_result",
          "data": {
            "text/plain": [
              "True"
            ]
          },
          "metadata": {},
          "execution_count": 56
        }
      ]
    },
    {
      "cell_type": "code",
      "metadata": {
        "id": "G6exJt-biXCB"
      },
      "source": [
        "n_lst=['Santa Cruz','Santa fe','Mumbai','Delhi']"
      ],
      "execution_count": 57,
      "outputs": []
    },
    {
      "cell_type": "code",
      "metadata": {
        "colab": {
          "base_uri": "https://localhost:8080/"
        },
        "id": "AjWQGLFHiOiw",
        "outputId": "4f530d03-1638-4797-f2f2-751a12fdf567"
      },
      "source": [
        "map(get_elemts,n_lst)"
      ],
      "execution_count": 58,
      "outputs": [
        {
          "output_type": "execute_result",
          "data": {
            "text/plain": [
              "<map at 0x7f98b6f6be50>"
            ]
          },
          "metadata": {},
          "execution_count": 58
        }
      ]
    },
    {
      "cell_type": "code",
      "metadata": {
        "colab": {
          "base_uri": "https://localhost:8080/"
        },
        "id": "tQxwzS1NidcM",
        "outputId": "4e3d484b-50cb-4ff4-d17d-65e7d72faa8a"
      },
      "source": [
        "l_map=list(map(get_elemts,n_lst))\n",
        "l_map.count(True)"
      ],
      "execution_count": 61,
      "outputs": [
        {
          "output_type": "execute_result",
          "data": {
            "text/plain": [
              "2"
            ]
          },
          "metadata": {},
          "execution_count": 61
        }
      ]
    },
    {
      "cell_type": "code",
      "metadata": {
        "colab": {
          "base_uri": "https://localhost:8080/"
        },
        "id": "DjjLdlY9kSVM",
        "outputId": "53210ea2-b653-49d5-888b-766e9b1ad1e0"
      },
      "source": [
        "input_list = [ ['Ankur', 'Avik', 'Kiran', 'Nitin'], ['Narang', 'Sarkar', 'R', 'Sareen']]\n",
        "first_name = input_list[0]\n",
        "last_name = input_list[1]\n",
        "print(first_name)"
      ],
      "execution_count": 73,
      "outputs": [
        {
          "output_type": "stream",
          "name": "stdout",
          "text": [
            "['Ankur', 'Avik', 'Kiran', 'Nitin']\n"
          ]
        }
      ]
    },
    {
      "cell_type": "code",
      "metadata": {
        "id": "Jw5TPVMekc-3"
      },
      "source": [
        "full_name=lambda x,y: x+' '+y"
      ],
      "execution_count": 70,
      "outputs": []
    },
    {
      "cell_type": "code",
      "metadata": {
        "colab": {
          "base_uri": "https://localhost:8080/",
          "height": 35
        },
        "id": "9jLqQj4Jk8YH",
        "outputId": "7c95c01d-9386-4341-8f98-39c78733e4f0"
      },
      "source": [
        "full_name('abc','b')"
      ],
      "execution_count": 71,
      "outputs": [
        {
          "output_type": "execute_result",
          "data": {
            "application/vnd.google.colaboratory.intrinsic+json": {
              "type": "string"
            },
            "text/plain": [
              "'abc b'"
            ]
          },
          "metadata": {},
          "execution_count": 71
        }
      ]
    },
    {
      "cell_type": "code",
      "metadata": {
        "colab": {
          "base_uri": "https://localhost:8080/",
          "height": 35
        },
        "id": "cOH_Y4eFlfny",
        "outputId": "1e2c4189-b3c4-463d-c76f-f87c4d603b9e"
      },
      "source": [
        "full_name(first_name[0],last_name[0])"
      ],
      "execution_count": 74,
      "outputs": [
        {
          "output_type": "execute_result",
          "data": {
            "application/vnd.google.colaboratory.intrinsic+json": {
              "type": "string"
            },
            "text/plain": [
              "'Ankur Narang'"
            ]
          },
          "metadata": {},
          "execution_count": 74
        }
      ]
    },
    {
      "cell_type": "code",
      "metadata": {
        "colab": {
          "base_uri": "https://localhost:8080/"
        },
        "id": "1TTfov-Jl_2_",
        "outputId": "a004bad2-8f13-42ad-db14-d2ae30857dcc"
      },
      "source": [
        "list(map(full_name,first_name,last_name))"
      ],
      "execution_count": 76,
      "outputs": [
        {
          "output_type": "execute_result",
          "data": {
            "text/plain": [
              "['Ankur Narang', 'Avik Sarkar', 'Kiran R', 'Nitin Sareen']"
            ]
          },
          "metadata": {},
          "execution_count": 76
        }
      ]
    },
    {
      "cell_type": "code",
      "metadata": {
        "id": "Rsv1eUOHmxpm"
      },
      "source": [
        ""
      ],
      "execution_count": null,
      "outputs": []
    }
  ]
}